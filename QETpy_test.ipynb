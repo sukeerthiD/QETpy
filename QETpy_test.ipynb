{
 "cells": [
  {
   "cell_type": "code",
   "execution_count": 3,
   "id": "d98731c1",
   "metadata": {},
   "outputs": [
    {
     "name": "stdout",
     "output_type": "stream",
     "text": [
      "33450669.226085205 33333.33333333333\n",
      "() (15000,) (15000,) (15000,) (15000,)\n",
      "in bestind decision\n",
      "finishing bestind\n",
      "finishing OF..\n",
      "30449831.26720471 33333.33333333333\n",
      "() (15000,) (15000,) (15000,) (15000,)\n",
      "in bestind decision\n",
      "finishing bestind\n",
      "finishing OF..\n"
     ]
    }
   ],
   "source": [
    "import numpy as np\n",
    "import os\n",
    "import matplotlib\n",
    "from matplotlib.colors import LogNorm\n",
    "import matplotlib.pyplot as plt\n",
    "\n",
    "\n",
    "import pandas as pd\n",
    "\n",
    "\n",
    "from scipy import integrate\n",
    "import re\n",
    "\n",
    "\n",
    "\n",
    "from qetpy.core._fitting import *\n",
    "\n",
    "matplotlib.rc('font', size=16)          # controls default text sizes\n",
    "matplotlib.rc('axes', titlesize=16)     # fontsize of the axes title\n",
    "matplotlib.rc('axes', labelsize=16)    # fontsize of the x and y labels\n",
    "matplotlib.rc('xtick', labelsize=14)    # fontsize of the tick labels\n",
    "matplotlib.rc('ytick', labelsize=14)    # fontsize of the tick labels\n",
    "matplotlib.rc('legend', fontsize=16)    # legend fontsize\n",
    "matplotlib.rc('figure', titlesize=16)  # fontsize of the figure title\n",
    "matplotlib.rcParams['figure.dpi'] = 100\n",
    "matplotlib.rc('figure.subplot', hspace=  0.4)\n",
    "\n",
    "def create_template(traces):\n",
    "    template = np.mean(traces, axis = 0)\n",
    "    template_norm= template/np.linalg.norm(template)\n",
    "    return template, template_norm\n",
    "\n",
    "def OF_calc(signal, template_norm, psd_noise, fs, noisevar, recordlength):\n",
    "    amp, t0, chi2, fit_amp_min, data_amp_min= [], [], [], [], []\n",
    "    chi2_sav, chi2_my, chi2_array_varnoise = [], [], []\n",
    "    integrated_fit_amp, integrated_raw_amp = [], []\n",
    "    for trace in np.arange(len(signal)):\n",
    "        OF = OptimumFilter(signal[trace], template_norm, psd_noise, fs) # initialize the OptimumFilter class\n",
    "        amp_withdelay, t0_withdelay, chi2_withdelay= OF.ofamp_withdelay() # t0_withdelay : time shift calculated for the pulse (in s).\n",
    "        amp.append(amp_withdelay)\n",
    "        t0.append(t0_withdelay)\n",
    "        chi2.append(chi2_withdelay)\n",
    "        fit_amp = amp_withdelay*np.roll(template_norm, int(t0_withdelay*fs))\n",
    "        fit_amp_min.append(np.min(fit_amp )) \n",
    "        data_amp_min.append(np.min(signal[trace]))\n",
    "        integrated_fit_amp.append(-1* integrate.trapz(y = fit_amp, dx = 2e-9 ) )\n",
    "        integrated_raw_amp.append(-1* integrate.trapz(y = signal[trace], dx = 2e-9 ) )\n",
    "\n",
    "        chi2_sav.append((abs(signal[trace] - fit_amp).sum())/recordlength)\n",
    "        chi2_my.append((((signal[trace] - fit_amp)**2/abs(fit_amp)).sum())/recordlength )\n",
    "        chi2_array_varnoise.append ( (((signal[trace] - fit_amp)**2/noisevar).sum())/recordlength)\n",
    "\n",
    "    return amp, t0, chi2, fit_amp_min, data_amp_min, chi2_sav, chi2_my, chi2_array_varnoise, integrated_fit_amp, integrated_raw_amp\n",
    "\n",
    "\n",
    "signal = np.loadtxt('test_wavedump/wavedumpdata/wavedump_Tl_sample.txt')\n",
    "signal = signal-np.expand_dims(signal[:,100:2000].mean(axis=1), axis=1)\n",
    "signal = signal [0:2]\n",
    "\n",
    "template =create_template(np.load('test_wavedump/wavedumpdata/Tl_template_pulses.npy'))[1]\n",
    "\n",
    "\n",
    "amp_withdelay, t0_withdelay, chi2_withdelay, fit_amp_min, data_amp_min, chi2_sav, chi2_my, chi2_varnoise, integrated_fit_amp, integrated_raw_amp= OF_calc(signal= signal, \n",
    "                                                                              template_norm = create_template(np.load('test_wavedump/wavedumpdata/Tl_template_pulses.npy'))[1],\n",
    "                                                                              psd_noise = np.load('test_wavedump/saved_outputs/psd_noise_Tl.npy')[1],\n",
    "                                                                              fs = 1/2e-9, \n",
    "                                                                              noisevar = 7.029123062695451,\n",
    "                                                                              recordlength=15000)"
   ]
  },
  {
   "cell_type": "code",
   "execution_count": null,
   "id": "1f237c59",
   "metadata": {},
   "outputs": [],
   "source": [
    "print(amp_withdelay, t0_withdelay)"
   ]
  },
  {
   "cell_type": "code",
   "execution_count": null,
   "id": "779ba291",
   "metadata": {},
   "outputs": [],
   "source": [
    "print (min(template))"
   ]
  },
  {
   "cell_type": "code",
   "execution_count": null,
   "id": "03c34c7e",
   "metadata": {},
   "outputs": [],
   "source": [
    "plt.plot(np.arange(15000)/2e3, signal[0])\n",
    "plt.plot(np.arange(15000)/2e3, 10000*template)"
   ]
  },
  {
   "cell_type": "code",
   "execution_count": null,
   "id": "c9432358",
   "metadata": {},
   "outputs": [],
   "source": []
  }
 ],
 "metadata": {
  "kernelspec": {
   "display_name": "Python 3",
   "language": "python",
   "name": "python3"
  },
  "language_info": {
   "codemirror_mode": {
    "name": "ipython",
    "version": 3
   },
   "file_extension": ".py",
   "mimetype": "text/x-python",
   "name": "python",
   "nbconvert_exporter": "python",
   "pygments_lexer": "ipython3",
   "version": "3.8.10"
  }
 },
 "nbformat": 4,
 "nbformat_minor": 5
}
