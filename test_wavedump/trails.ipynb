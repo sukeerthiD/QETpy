{
 "cells": [
  {
   "cell_type": "code",
   "execution_count": 51,
   "id": "066dc298",
   "metadata": {},
   "outputs": [],
   "source": [
    "import numpy as np\n",
    "import matplotlib.pyplot as plt\n",
    "import os\n",
    "\n",
    "import pandas as pd\n",
    "import numpy as np\n",
    "import os\n",
    "import matplotlib.pyplot as plt\n",
    "\n",
    "from qetpy import Noise\n",
    "from qetpy.sim import TESnoise\n",
    "from qetpy.plotting import compare_noise, plot_noise_sim\n"
   ]
  },
  {
   "cell_type": "markdown",
   "id": "905f7b08",
   "metadata": {},
   "source": [
    "### Load data"
   ]
  },
  {
   "cell_type": "code",
   "execution_count": null,
   "id": "0ba72dfc",
   "metadata": {},
   "outputs": [],
   "source": [
    "# data_tl = np.loadtxt('wavedumpdata/wavedump_1000.txt', dtype='int')\n",
    "# np.save('wavedumpdata/wavedump_Tl.npy', data_tl)      \n",
    "# noise_tl = np.loadtxt('wavedumpdata_noise/wavedump_noise_21-05-27_12-46-42.txt', dtype='int')\n",
    "# np.save('wavedumpdata/wavedump_noise_Tl.npy', noise_tl)   \n",
    "# noise_tl_1 = np.loadtxt('wavedumpdata_noise/wavedump_run11_wavedumptest_21-04-16_16-06-57.txt', dtype='int')\n",
    "# np.save('wavedumpdata/wavedump_noise_Tl_1.npy', noise_tl_1)        "
   ]
  },
  {
   "cell_type": "markdown",
   "id": "546bd8e9",
   "metadata": {},
   "source": [
    "### Process data"
   ]
  },
  {
   "cell_type": "code",
   "execution_count": 52,
   "id": "86f99935",
   "metadata": {},
   "outputs": [],
   "source": [
    "traces_noise = np.load('wavedumpdata/wavedump_noise_Tl_1.npy')\n",
    "# try:\n",
    "#     noise_reshape_1 = traces_noise_1.reshape(int(np.floor(len(traces_noise_1)/15000)),15000)\n",
    "# except ValueError:\n",
    "#     traces_noise_1 = traces_noise_1[:int(np.floor(len(traces_noise_1)/15000))*15000,]\n",
    "#     noise_reshape_1 = traces_noise_1.reshape(int(np.floor(len(traces_noise_1)/15000)),15000)\n",
    "    \n",
    "# noise_mean_1 = np.expand_dims(noise_reshape_1[:,100:2000].mean(axis=1), axis=1)\n",
    "# noise_1= noise_reshape_1-noise_mean_1\n",
    "# np.save('wavedumpdata/wavedump_noise_Tl_processed_1.npy', noise_1)\n",
    "# print (noise_1.shape, noise_1[20].shape)\n",
    "\n",
    "# traces_noise = np.load('wavedumpdata/wavedump_noise_Tl_processed_1.npy')"
   ]
  },
  {
   "cell_type": "code",
   "execution_count": 53,
   "id": "f37cfce0",
   "metadata": {},
   "outputs": [],
   "source": [
    "traces_noise_o = np.load('wavedumpdata/wavedump_noise_Tl.npy')\n",
    "\n",
    "# try:\n",
    "#     noise_reshape = traces_noise.reshape(int(np.floor(len(traces_noise)/15000)),15000)\n",
    "# except ValueError:\n",
    "#     traces_noise = traces_noise[:int(np.floor(len(traces_noise)/15000))*15000,]\n",
    "#     noise_reshape = traces_noise.reshape(int(np.floor(len(traces_noise)/15000)),15000)\n",
    "# noise_mean = np.expand_dims(noise_reshape[:,100:2000].mean(axis=1), axis=1)\n",
    "# noise= noise_reshape-noise_mean\n",
    "# np.save('wavedumpdata/wavedump_noise_Tl_processed.npy', noise)\n",
    "# print (noise.shape, noise[20].shape)\n",
    "\n",
    "# traces_noise_o = np.load('wavedumpdata/wavedump_noise_Tl_processed.npy')"
   ]
  },
  {
   "cell_type": "code",
   "execution_count": 54,
   "id": "b21f7197",
   "metadata": {},
   "outputs": [],
   "source": [
    "# traces_data = np.load('wavedumpdata/wavedump_Tl.npy')\n",
    "\n",
    "# try:\n",
    "#     data_reshape = traces_data.reshape(int(np.floor(len(traces_data)/15000)),15000)\n",
    "# except ValueError:\n",
    "#     traces_data = traces_data[:int(np.floor(len(traces_data)/15000))*15000,]\n",
    "# data_mean = np.expand_dims(data_reshape[:,100:2000].mean(axis=1), axis=1)\n",
    "# data= data_reshape-data_mean\n",
    "# np.save('wavedumpdata/wavedump_data_Tl_processed.npy', data)\n",
    "# print (data.shape, data[20].shape)\n",
    "\n",
    "traces_data = np.load('wavedumpdata/wavedump_data_Tl_processed.npy')"
   ]
  },
  {
   "cell_type": "code",
   "execution_count": null,
   "id": "eb2bfe5c",
   "metadata": {},
   "outputs": [],
   "source": [
    "print (len(traces_noise)/15000)"
   ]
  },
  {
   "cell_type": "code",
   "execution_count": null,
   "id": "179df8e2",
   "metadata": {},
   "outputs": [],
   "source": []
  },
  {
   "cell_type": "code",
   "execution_count": null,
   "id": "22af6c73",
   "metadata": {},
   "outputs": [],
   "source": []
  },
  {
   "cell_type": "markdown",
   "id": "578fed05",
   "metadata": {},
   "source": [
    "## Noise - PSD"
   ]
  },
  {
   "cell_type": "code",
   "execution_count": null,
   "id": "b7400eed",
   "metadata": {},
   "outputs": [],
   "source": [
    "\n",
    "    # traces : ndarray (# of traces, # of channels, # of bins)\n",
    "    # Array of the traces to use in the noise analysis. Should be shape "
   ]
  },
  {
   "cell_type": "code",
   "execution_count": null,
   "id": "b03f70dd",
   "metadata": {},
   "outputs": [],
   "source": [
    "\n"
   ]
  },
  {
   "cell_type": "code",
   "execution_count": 101,
   "id": "713625ec",
   "metadata": {},
   "outputs": [
    {
     "name": "stdout",
     "output_type": "stream",
     "text": [
      "(7500000,)\n",
      "(500, 1, 15000)\n"
     ]
    },
    {
     "name": "stderr",
     "output_type": "stream",
     "text": [
      "/home/s/.local/lib/python3.8/site-packages/ipykernel/ipkernel.py:283: DeprecationWarning: `should_run_async` will not call `transform_cell` automatically in the future. Please pass the result to `transformed_cell` argument and any exception that happen during thetransform in `preprocessing_exc_tuple` in IPython 7.17 and above.\n",
      "  and should_run_async(code)\n"
     ]
    }
   ],
   "source": [
    "Traces_noise= traces_noise[:500*15000]\n",
    "print (Traces_noise.shape)\n",
    "Traces_noise = Traces_noise.reshape(500,1,15000)\n",
    "print (Traces_noise.shape)"
   ]
  },
  {
   "cell_type": "code",
   "execution_count": 126,
   "id": "f9c7063c",
   "metadata": {},
   "outputs": [
    {
     "name": "stderr",
     "output_type": "stream",
     "text": [
      "/home/s/.local/lib/python3.8/site-packages/ipykernel/ipkernel.py:283: DeprecationWarning: `should_run_async` will not call `transform_cell` automatically in the future. Please pass the result to `transformed_cell` argument and any exception that happen during thetransform in `preprocessing_exc_tuple` in IPython 7.17 and above.\n",
      "  and should_run_async(code)\n"
     ]
    }
   ],
   "source": [
    "\n",
    "fs = 500e6 #define sample rate\n",
    "channels = [ 'Channel' ] #define the channel names\n",
    "tl_noise = Noise(traces=Traces_noise,\n",
    "                   fs=fs, \n",
    "                   channames=channels,\n",
    "                   name= 'Testing CsI_Tl') #initialize a noise object\n",
    "# Noise?"
   ]
  },
  {
   "cell_type": "code",
   "execution_count": 127,
   "id": "53d0a445",
   "metadata": {},
   "outputs": [],
   "source": [
    "\n",
    "tl_noise.calculate_psd()\n",
    "tl_noise.save('noise')\n",
    "# If there is more than one channel, one can do correlations (below)\n",
    "# tl_noise.calculate_corrcoeff()\n",
    "# tl_noise.calculate_csd()\n",
    "# g124_noise.calculate_uncorr_noise()"
   ]
  },
  {
   "cell_type": "code",
   "execution_count": 128,
   "id": "c90f2b69",
   "metadata": {},
   "outputs": [
    {
     "data": {
      "image/png": "[encoded data removed]",
      "text/plain": [
       "<Figure size 864x576 with 1 Axes>"
      ]
     },
     "metadata": {
      "needs_background": "light"
     },
     "output_type": "display_data"
    }
   ],
   "source": [
    "tl_noise.plot_psd(lgcoverlay=True)"
   ]
  },
  {
   "cell_type": "markdown",
   "id": "cfb50985",
   "metadata": {},
   "source": [
    "# Optimum filter"
   ]
  },
  {
   "cell_type": "code",
   "execution_count": 111,
   "id": "75a01bd1",
   "metadata": {},
   "outputs": [
    {
     "name": "stderr",
     "output_type": "stream",
     "text": [
      "/home/s/.local/lib/python3.8/site-packages/ipykernel/ipkernel.py:283: DeprecationWarning: `should_run_async` will not call `transform_cell` automatically in the future. Please pass the result to `transformed_cell` argument and any exception that happen during thetransform in `preprocessing_exc_tuple` in IPython 7.17 and above.\n",
      "  and should_run_async(code)\n"
     ]
    }
   ],
   "source": [
    "import qetpy as qp\n",
    "from pprint import pprint"
   ]
  },
  {
   "cell_type": "code",
   "execution_count": 130,
   "id": "07639283",
   "metadata": {},
   "outputs": [
    {
     "name": "stdout",
     "output_type": "stream",
     "text": [
      "[      0.           33333.33333333   66666.66666667 ... -100000.\n",
      "  -66666.66666667  -33333.33333333]\n"
     ]
    },
    {
     "name": "stderr",
     "output_type": "stream",
     "text": [
      "/home/s/.local/lib/python3.8/site-packages/ipykernel/ipkernel.py:283: DeprecationWarning: `should_run_async` will not call `transform_cell` automatically in the future. Please pass the result to `transformed_cell` argument and any exception that happen during thetransform in `preprocessing_exc_tuple` in IPython 7.17 and above.\n",
      "  and should_run_async(code)\n"
     ]
    }
   ],
   "source": [
    "\n",
    "fs = 1/2e-9\n",
    "\n",
    "# fftfreq : Return the Discrete Fourier Transform sample frequencies.\n",
    "f = np.fft.fftfreq(15000, d=1/fs) # n=15000 : window length; d is sample spacing (in seconds)\n",
    "print (f)\n",
    "#noisesim = qp.sim.TESnoise(r0=0.03) # r0 : bias resistance of the TES in Ohms\n",
    "noisesim = TESnoise(freqs = tl_noise.freqs[1:])\n",
    "\n",
    "# s_iload : Johnson load current noise determined from the TES parameters for in transition.\n",
    "psd_sim = noisesim.s_iload(freqs=f) + noisesim.s_ites(freqs=f) + noisesim.s_itfn(freqs=f) # freqs : frequencies for which we will calculate the noise simulation\n"
   ]
  },
  {
   "cell_type": "code",
   "execution_count": 113,
   "id": "eb1f37be",
   "metadata": {},
   "outputs": [],
   "source": [
    "# create a template\n",
    "# pulse_amp = 1e-6 # [A]\n",
    "tau_f = 1.1e-6 # [s] fall time\n",
    "tau_r = 0.05e-6 # [s] rise time\n",
    "\n",
    "t = np.arange(len(psd_sim))/fs\n",
    "\n",
    "pulse = np.exp(-t/tau_f)-np.exp(-t/tau_r)\n",
    "pulse_shifted = np.roll(pulse, len(t)//2)\n",
    "template = pulse_shifted/pulse_shifted.max()\n",
    "\n",
    "\n",
    "\n",
    "\n",
    "# use the PSD to create an example trace to fit\n",
    "# gen_noise : Function to generate noise traces with random phase from a given PSD. \n",
    "# noise = qp.gen_noise(psd_sim, fs=fs, ntraces=1)[0] # psd = psd_sim : The two-sided power spectral density that will be used to generate the noise.\n",
    "#fs: Sample rate of the data being taken, assumed to be in units of Hz; ntraces : The number of noise traces that should be generated. \n",
    "# signal = noise + np.roll(template, 100)*pulse_amp # note the shift we have added, 160 us\n",
    "\n",
    "\n"
   ]
  },
  {
   "cell_type": "code",
   "execution_count": 114,
   "id": "208b495e",
   "metadata": {},
   "outputs": [
    {
     "name": "stdout",
     "output_type": "stream",
     "text": [
      "(15000,)\n",
      "15000\n"
     ]
    }
   ],
   "source": [
    "signal = traces_data[20]\n",
    "print(signal.shape)\n",
    "print (len(psd_sim))"
   ]
  },
  {
   "cell_type": "code",
   "execution_count": 115,
   "id": "688d5f71",
   "metadata": {},
   "outputs": [
    {
     "name": "stdout",
     "output_type": "stream",
     "text": [
      "No Delay Fit: amp = 26089457.78 μA, χ^2 = 163389999010005920828620800.00\n",
      "With Delay Fit: amp = -1290432216.18 μA, t_0 = -7.680000000000001 μs, χ^2 = 161538429969150575862874112.00\n"
     ]
    }
   ],
   "source": [
    "OF = qp.OptimumFilter(signal, template, psd_sim, fs) # initialize the OptimumFilter class\n",
    "amp_nodelay, chi2_nodelay = OF.ofamp_nodelay() \n",
    "# amp : The optimum amplitude calculated for the trace (in Amps); chi2 : The chi^2 value calculated from the optimum filter\n",
    "\n",
    "amp, t0, chi2 = OF.ofamp_baseline(nconstrain=300)\n",
    "\n",
    "amp_withdelay, t0_withdelay, chi2_withdelay = OF.ofamp_withdelay() # t0_withdelay : time shift calculated for the pulse (in s).\n",
    "\n",
    "print(f\"No Delay Fit: amp = {amp_nodelay*1e6:.2f} μA, χ^2 = {chi2_nodelay:.2f}\")\n",
    "print(f\"With Delay Fit: amp = {amp_withdelay*1e6:.2f} μA, t_0 = {t0_withdelay*1e6} μs, χ^2 = {chi2_withdelay:.2f}\")"
   ]
  },
  {
   "cell_type": "code",
   "execution_count": null,
   "id": "b0f2df42",
   "metadata": {},
   "outputs": [],
   "source": []
  },
  {
   "cell_type": "code",
   "execution_count": 132,
   "id": "8d491c36",
   "metadata": {},
   "outputs": [
    {
     "name": "stderr",
     "output_type": "stream",
     "text": [
      "/home/s/.local/lib/python3.8/site-packages/ipykernel/ipkernel.py:283: DeprecationWarning: `should_run_async` will not call `transform_cell` automatically in the future. Please pass the result to `transformed_cell` argument and any exception that happen during thetransform in `preprocessing_exc_tuple` in IPython 7.17 and above.\n",
      "  and should_run_async(code)\n",
      "<>:7: DeprecationWarning: invalid escape sequence \\m\n",
      "<>:7: DeprecationWarning: invalid escape sequence \\m\n",
      "<ipython-input-132-e8d7413a6537>:7: DeprecationWarning: invalid escape sequence \\m\n",
      "  ax.set_xlabel(\"Time [$\\mu$s]\")\n"
     ]
    },
    {
     "data": {
      "image/png": "[encoded data removed]",
      "text/plain": [
       "<Figure size 720x432 with 1 Axes>"
      ]
     },
     "metadata": {
      "needs_background": "light"
     },
     "output_type": "display_data"
    }
   ],
   "source": [
    "fig, ax = plt.subplots(figsize=(10, 6))\n",
    "# ax.plot(np.arange(len(signal))*2e-3, signal, label=\"Signal\", color=\"blue\", alpha=0.5)\n",
    "ax.plot(np.arange(1000000)*2e-3, traces_noise[:1000000], label = \"noise trace\")\n",
    "# ax.plot(np.arange(len(signal))*2e-3, amp_withdelay*np.roll(template, int(t0_withdelay*fs)), \n",
    "#         label=\"Trial fit - not yet optimized\", color=\"red\", linestyle=\"dotted\")\n",
    "ax.set_ylabel(\"Light output [ADC]\")\n",
    "ax.set_xlabel(\"Time [$\\mu$s]\")\n",
    "# ax.set_yscale('log')\n",
    "# ax.set_xlim(0,15000)\n",
    "ax.set_title(\"CsI Tl\")\n",
    "lgd = ax.legend(loc=\"lower right\")\n",
    "ax.tick_params(which=\"both\", direction=\"in\", right=True, top=True)\n",
    "ax.grid(linestyle=\"dotted\")\n",
    "fig = ax.get_figure()\n",
    "fig.savefig(\"plots/Csi_fitted.png\", dpi=200,  bbox_inches='tight')\n",
    "fig.tight_layout()"
   ]
  },
  {
   "cell_type": "code",
   "execution_count": null,
   "id": "6a18fc4a",
   "metadata": {},
   "outputs": [],
   "source": [
    "tl_noise.plot_psd(lgcoverlay=True)"
   ]
  },
  {
   "cell_type": "code",
   "execution_count": null,
   "id": "894f9270",
   "metadata": {},
   "outputs": [],
   "source": []
  },
  {
   "cell_type": "code",
   "execution_count": null,
   "id": "e637c8ff",
   "metadata": {},
   "outputs": [],
   "source": [
    "# pulse_amp = 1e-6\n",
    "# tau_f = 160e-6\n",
    "# tau_r = 20e-6\n",
    "# tau_f = 1e-6 # [s] fall time\n",
    "# tau_r = 0.05e-6 # [s] rise time\n",
    "\n",
    "# t = np.arange(len(psd_sim))/fs\n",
    "\n",
    "# pulse = np.exp(-t/tau_f)-np.exp(-t/tau_r)\n",
    "# pulse_shifted = np.roll(pulse, len(t)//2)\n",
    "# template = pulse_shifted/pulse_shifted.max()\n",
    "\n",
    "# noise = qp.gen_noise(psd_sim, fs=fs, ntraces=1)[0]\n",
    "# signal = noise + np.roll(template, 100)*pulse_amp\n",
    "\n"
   ]
  },
  {
   "cell_type": "code",
   "execution_count": null,
   "id": "dc743f8d",
   "metadata": {},
   "outputs": [],
   "source": [
    "print(fs)"
   ]
  },
  {
   "cell_type": "code",
   "execution_count": null,
   "id": "90737cf5",
   "metadata": {},
   "outputs": [],
   "source": [
    "# OF.update_signal(signal) # update the signal in order to fit a new trace\n",
    "# amp_withdelay, t0_withdelay, chi2_withdelay = OF.ofamp_withdelay(nconstrain=300)\n",
    "\n",
    "# print(f\"With Delay Fit: amp = {amp_withdelay*1e6:.2f} μA, t_0 = {t0_withdelay*1e6:.2f} μs, χ^2 = {chi2_withdelay:.2f}\")"
   ]
  },
  {
   "cell_type": "code",
   "execution_count": null,
   "id": "48d4c682",
   "metadata": {},
   "outputs": [],
   "source": [
    "nonlinof = qp.OFnonlin(psd_sim, fs, template=None)\n",
    "params, error, _, chi2_nonlin, success = nonlinof.fit_falltimes(signal, npolefit=3, lgcfullrtn=True, lgcplot=True)\n",
    "# params :  best fit parameters ; error : The corresponding fit errors for the best fit parameters ; \n",
    "# _ : The convariance matrix returned from the fit ; success : The success flag from scipy.optimize.curve_fit i.e True if the fit converged. "
   ]
  },
  {
   "cell_type": "code",
   "execution_count": null,
   "id": "3a456eef",
   "metadata": {},
   "outputs": [],
   "source": [
    "params"
   ]
  },
  {
   "cell_type": "code",
   "execution_count": null,
   "id": "3fc5ff65",
   "metadata": {},
   "outputs": [],
   "source": [
    "print(f\"Nonlinear fit: χ^2 = {chi2_nonlin * (len(nonlinof.data)-nonlinof.dof):.2f}\")"
   ]
  },
  {
   "cell_type": "code",
   "execution_count": null,
   "id": "9e4c7605",
   "metadata": {},
   "outputs": [],
   "source": []
  },
  {
   "cell_type": "code",
   "execution_count": null,
   "id": "e67df3d0",
   "metadata": {},
   "outputs": [],
   "source": []
  },
  {
   "cell_type": "code",
   "execution_count": null,
   "id": "ccb12eea",
   "metadata": {},
   "outputs": [],
   "source": []
  },
  {
   "cell_type": "code",
   "execution_count": null,
   "id": "018ebf3f",
   "metadata": {},
   "outputs": [],
   "source": []
  },
  {
   "cell_type": "code",
   "execution_count": null,
   "id": "6f3cc6f8",
   "metadata": {},
   "outputs": [],
   "source": []
  },
  {
   "cell_type": "code",
   "execution_count": null,
   "id": "09639537",
   "metadata": {},
   "outputs": [],
   "source": []
  },
  {
   "cell_type": "code",
   "execution_count": null,
   "id": "aae74e7c",
   "metadata": {},
   "outputs": [],
   "source": []
  },
  {
   "cell_type": "code",
   "execution_count": null,
   "id": "723baaa2",
   "metadata": {},
   "outputs": [],
   "source": [
    "\n",
    "    "
   ]
  },
  {
   "cell_type": "code",
   "execution_count": 121,
   "id": "028f0dc3",
   "metadata": {},
   "outputs": [
    {
     "name": "stdout",
     "output_type": "stream",
     "text": [
      "[[   1    2    3    4    5    6    7    8    9   10   11   12   13   14\n",
      "    15   16   17   18   19   20   21   22   23   24   25   26   27   28\n",
      "    29   30   31   32   33   34   35   36   37   38   39   40   41   42\n",
      "    43   44   45   46   47   48   49   50   51   52   53   54   55   56\n",
      "    57   58   59   60   61   62   63   64   65   66   67   68   69   70\n",
      "    71   72   73   74   75   76   77   78   79   80   81   82   83   84\n",
      "    85   86   87   88   89   90   91   92   93   94   95   96   97   98\n",
      "    99  100]\n",
      " [ 101  102  103  104  105  106  107  108  109  110  111  112  113  114\n",
      "   115  116  117  118  119  120  121  122  123  124  125  126  127  128\n",
      "   129  130  131  132  133  134  135  136  137  138  139  140  141  142\n",
      "   143  144  145  146  147  148  149  150  151  152  153  154  155  156\n",
      "   157  158  159  160  161  162  163  164  165  166  167  168  169  170\n",
      "   171  172  173  174  175  176  177  178  179  180  181  182  183  184\n",
      "   185  186  187  188  189  190  191  192  193  194  195  196  197  198\n",
      "   199  200]\n",
      " [ 201  202  203  204  205  206  207  208  209  210  211  212  213  214\n",
      "   215  216  217  218  219  220  221  222  223  224  225  226  227  228\n",
      "   229  230  231  232  233  234  235  236  237  238  239  240  241  242\n",
      "   243  244  245  246  247  248  249  250  251  252  253  254  255  256\n",
      "   257  258  259  260  261  262  263  264  265  266  267  268  269  270\n",
      "   271  272  273  274  275  276  277  278  279  280  281  282  283  284\n",
      "   285  286  287  288  289  290  291  292  293  294  295  296  297  298\n",
      "   299  300]\n",
      " [ 301  302  303  304  305  306  307  308  309  310  311  312  313  314\n",
      "   315  316  317  318  319  320  321  322  323  324  325  326  327  328\n",
      "   329  330  331  332  333  334  335  336  337  338  339  340  341  342\n",
      "   343  344  345  346  347  348  349  350  351  352  353  354  355  356\n",
      "   357  358  359  360  361  362  363  364  365  366  367  368  369  370\n",
      "   371  372  373  374  375  376  377  378  379  380  381  382  383  384\n",
      "   385  386  387  388  389  390  391  392  393  394  395  396  397  398\n",
      "   399  400]\n",
      " [ 401  402  403  404  405  406  407  408  409  410  411  412  413  414\n",
      "   415  416  417  418  419  420  421  422  423  424  425  426  427  428\n",
      "   429  430  431  432  433  434  435  436  437  438  439  440  441  442\n",
      "   443  444  445  446  447  448  449  450  451  452  453  454  455  456\n",
      "   457  458  459  460  461  462  463  464  465  466  467  468  469  470\n",
      "   471  472  473  474  475  476  477  478  479  480  481  482  483  484\n",
      "   485  486  487  488  489  490  491  492  493  494  495  496  497  498\n",
      "   499  500]\n",
      " [ 501  502  503  504  505  506  507  508  509  510  511  512  513  514\n",
      "   515  516  517  518  519  520  521  522  523  524  525  526  527  528\n",
      "   529  530  531  532  533  534  535  536  537  538  539  540  541  542\n",
      "   543  544  545  546  547  548  549  550  551  552  553  554  555  556\n",
      "   557  558  559  560  561  562  563  564  565  566  567  568  569  570\n",
      "   571  572  573  574  575  576  577  578  579  580  581  582  583  584\n",
      "   585  586  587  588  589  590  591  592  593  594  595  596  597  598\n",
      "   599  600]\n",
      " [ 601  602  603  604  605  606  607  608  609  610  611  612  613  614\n",
      "   615  616  617  618  619  620  621  622  623  624  625  626  627  628\n",
      "   629  630  631  632  633  634  635  636  637  638  639  640  641  642\n",
      "   643  644  645  646  647  648  649  650  651  652  653  654  655  656\n",
      "   657  658  659  660  661  662  663  664  665  666  667  668  669  670\n",
      "   671  672  673  674  675  676  677  678  679  680  681  682  683  684\n",
      "   685  686  687  688  689  690  691  692  693  694  695  696  697  698\n",
      "   699  700]\n",
      " [ 701  702  703  704  705  706  707  708  709  710  711  712  713  714\n",
      "   715  716  717  718  719  720  721  722  723  724  725  726  727  728\n",
      "   729  730  731  732  733  734  735  736  737  738  739  740  741  742\n",
      "   743  744  745  746  747  748  749  750  751  752  753  754  755  756\n",
      "   757  758  759  760  761  762  763  764  765  766  767  768  769  770\n",
      "   771  772  773  774  775  776  777  778  779  780  781  782  783  784\n",
      "   785  786  787  788  789  790  791  792  793  794  795  796  797  798\n",
      "   799  800]\n",
      " [ 801  802  803  804  805  806  807  808  809  810  811  812  813  814\n",
      "   815  816  817  818  819  820  821  822  823  824  825  826  827  828\n",
      "   829  830  831  832  833  834  835  836  837  838  839  840  841  842\n",
      "   843  844  845  846  847  848  849  850  851  852  853  854  855  856\n",
      "   857  858  859  860  861  862  863  864  865  866  867  868  869  870\n",
      "   871  872  873  874  875  876  877  878  879  880  881  882  883  884\n",
      "   885  886  887  888  889  890  891  892  893  894  895  896  897  898\n",
      "   899  900]\n",
      " [ 901  902  903  904  905  906  907  908  909  910  911  912  913  914\n",
      "   915  916  917  918  919  920  921  922  923  924  925  926  927  928\n",
      "   929  930  931  932  933  934  935  936  937  938  939  940  941  942\n",
      "   943  944  945  946  947  948  949  950  951  952  953  954  955  956\n",
      "   957  958  959  960  961  962  963  964  965  966  967  968  969  970\n",
      "   971  972  973  974  975  976  977  978  979  980  981  982  983  984\n",
      "   985  986  987  988  989  990  991  992  993  994  995  996  997  998\n",
      "   999 1000]]\n"
     ]
    }
   ],
   "source": []
  },
  {
   "cell_type": "code",
   "execution_count": null,
   "id": "a1f7854e",
   "metadata": {},
   "outputs": [],
   "source": []
  },
  {
   "cell_type": "code",
   "execution_count": null,
   "id": "e546cbd7",
   "metadata": {},
   "outputs": [],
   "source": []
  }
 ],
 "metadata": {
  "kernelspec": {
   "display_name": "Python 3",
   "language": "python",
   "name": "python3"
  },
  "language_info": {
   "codemirror_mode": {
    "name": "ipython",
    "version": 3
   },
   "file_extension": ".py",
   "mimetype": "text/x-python",
   "name": "python",
   "nbconvert_exporter": "python",
   "pygments_lexer": "ipython3",
   "version": "3.8.5"
  }
 },
 "nbformat": 4,
 "nbformat_minor": 5
}
