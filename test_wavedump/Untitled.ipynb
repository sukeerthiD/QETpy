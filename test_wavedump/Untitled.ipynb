{
 "cells": [
  {
   "cell_type": "code",
   "execution_count": 1,
   "id": "07312191",
   "metadata": {},
   "outputs": [],
   "source": [
    "import numpy as np\n",
    "import os\n",
    "import matplotlib\n",
    "from matplotlib.colors import LogNorm\n",
    "import matplotlib.pyplot as plt\n",
    "import h5py\n",
    "import tables\n",
    "import pandas as pd\n",
    "import random\n",
    "def create_template(traces):\n",
    "    template = np.mean(traces, axis = 0)\n",
    "    template_norm= template/np.linalg.norm(template)\n",
    "    return template, template_norm"
   ]
  },
  {
   "cell_type": "code",
   "execution_count": 2,
   "id": "3b702983",
   "metadata": {},
   "outputs": [],
   "source": [
    "t_M, T_M= create_template(np.load('pulses_for_p_M.npy'))\n",
    "t_L, T_L= create_template(np.load('pulses_for_p_L.npy'))"
   ]
  },
  {
   "cell_type": "code",
   "execution_count": 3,
   "id": "7d796421",
   "metadata": {},
   "outputs": [],
   "source": [
    "np.save('template-p_4000_L.npy', t_L )\n",
    "np.save('templateN-p_4000_L.npy', T_L )\n",
    "np.save('template-p_13500_M.npy', t_M )\n",
    "np.save('templateN-p_13500_M.npy', T_M )"
   ]
  },
  {
   "cell_type": "code",
   "execution_count": 5,
   "id": "a1cd72a3",
   "metadata": {},
   "outputs": [],
   "source": [
    "l = np.load('templates/P_template_pulses.npy')\n",
    "ll = np.load('templates/pure_template_pulses.npy')"
   ]
  },
  {
   "cell_type": "code",
   "execution_count": 13,
   "id": "bc32b9d1",
   "metadata": {},
   "outputs": [
    {
     "data": {
      "text/plain": [
       "[<matplotlib.lines.Line2D at 0x7f71c89b46d0>]"
      ]
     },
     "execution_count": 13,
     "metadata": {},
     "output_type": "execute_result"
    },
    {
     "data": {
      "image/png": "[encoded data removed]",
      "text/plain": [
       "<Figure size 432x288 with 1 Axes>"
      ]
     },
     "metadata": {
      "needs_background": "light"
     },
     "output_type": "display_data"
    }
   ],
   "source": [
    "plt.plot(np.arange(15000)*2e-3, l[0])\n",
    "# plt.plot(np.arange(15000)*2e-3, ll[0])\n",
    "plt.plot(np.arange(15000)*2e-3, t_M)\n",
    "# plt.xlim(9,9.5)"
   ]
  },
  {
   "cell_type": "code",
   "execution_count": null,
   "id": "c94e1780",
   "metadata": {},
   "outputs": [],
   "source": []
  }
 ],
 "metadata": {
  "kernelspec": {
   "display_name": "Python 3",
   "language": "python",
   "name": "python3"
  },
  "language_info": {
   "codemirror_mode": {
    "name": "ipython",
    "version": 3
   },
   "file_extension": ".py",
   "mimetype": "text/x-python",
   "name": "python",
   "nbconvert_exporter": "python",
   "pygments_lexer": "ipython3",
   "version": "3.8.10"
  }
 },
 "nbformat": 4,
 "nbformat_minor": 5
}
