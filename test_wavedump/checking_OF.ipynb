{
 "cells": [
  {
   "cell_type": "code",
   "execution_count": 1,
   "id": "ce1c9b35",
   "metadata": {},
   "outputs": [],
   "source": [
    "import numpy as np\n",
    "import os\n",
    "import matplotlib\n",
    "import matplotlib.pyplot as plt\n",
    "from numpy.fft import rfft, fft, ifft, fftfreq, rfftfreq\n",
    "\n",
    "\n",
    "import qetpy as qp"
   ]
  },
  {
   "cell_type": "code",
   "execution_count": null,
   "id": "6aa40a08",
   "metadata": {},
   "outputs": [],
   "source": [
    "x=np.load('wavedump_noise/wavedump_noise2_Tl_filtered.npy')\n",
    "y=np.load('wavedump_noise/wavedump_noise2_Tl_filtered.npy')[0]"
   ]
  },
  {
   "cell_type": "code",
   "execution_count": null,
   "id": "7a6669f9",
   "metadata": {},
   "outputs": [],
   "source": [
    "print(x.shape, y.shape)"
   ]
  },
  {
   "cell_type": "code",
   "execution_count": null,
   "id": "7d53564f",
   "metadata": {},
   "outputs": [],
   "source": [
    "print(x.shape[-1], y.shape[-1])"
   ]
  },
  {
   "cell_type": "code",
   "execution_count": null,
   "id": "238f7d5c",
   "metadata": {},
   "outputs": [],
   "source": [
    "print(x.shape[-1]*1/2e-9, y.shape[-1]*1/2e-9)"
   ]
  },
  {
   "cell_type": "code",
   "execution_count": null,
   "id": "c66a4ae1",
   "metadata": {},
   "outputs": [],
   "source": [
    "print(len(x.shape), len(y.shape))"
   ]
  },
  {
   "cell_type": "code",
   "execution_count": null,
   "id": "0e802338",
   "metadata": {},
   "outputs": [],
   "source": [
    "print(len(fft(x)), len(fft(y)))"
   ]
  },
  {
   "cell_type": "code",
   "execution_count": null,
   "id": "382151a3",
   "metadata": {},
   "outputs": [],
   "source": [
    "(np.mean(x, axis = -1))/(np.mean(x, axis = 1))"
   ]
  },
  {
   "cell_type": "code",
   "execution_count": null,
   "id": "aa05604a",
   "metadata": {},
   "outputs": [],
   "source": [
    "\n"
   ]
  },
  {
   "cell_type": "code",
   "execution_count": null,
   "id": "5bd21840",
   "metadata": {},
   "outputs": [],
   "source": [
    "\n",
    "psd = qp.calc_psd(x, 1/2e-9, True)\n",
    "print(len(psd))\n",
    "print(psd[0].shape, psd[1].shape)\n",
    "psd = qp.calc_psd(x, 1/2e-9, False)\n",
    "print(len(psd))\n",
    "print(psd[0].shape, psd[1].shape)"
   ]
  },
  {
   "cell_type": "code",
   "execution_count": null,
   "id": "77af8030",
   "metadata": {},
   "outputs": [],
   "source": [
    "def create_template(traces):\n",
    "    template = np.mean(traces, axis = 0)\n",
    "    template_norm= template/np.linalg.norm(template)\n",
    "    return template_norm\n",
    "template = create_template(np.load('wavedumpdata/Tl_template_pulses.npy'))\n",
    "signal = np.loadtxt('wavedumpdata/wavedump_Tl_sample.txt')\n",
    "signal = signal-np.expand_dims(signal[:,100:2000].mean(axis=1), axis=1)\n",
    "signal = signal[0]\n",
    "# print(signal.shape)"
   ]
  },
  {
   "cell_type": "code",
   "execution_count": 1,
   "id": "3eee338d",
   "metadata": {},
   "outputs": [
    {
     "ename": "NameError",
     "evalue": "name 'qp' is not defined",
     "output_type": "error",
     "traceback": [
      "\u001b[0;31m---------------------------------------------------------------------------\u001b[0m",
      "\u001b[0;31mNameError\u001b[0m                                 Traceback (most recent call last)",
      "\u001b[0;32m<ipython-input-1-c44f9cba6d45>\u001b[0m in \u001b[0;36m<module>\u001b[0;34m\u001b[0m\n\u001b[1;32m      1\u001b[0m \u001b[0;31m#----------------------------------------\u001b[0m\u001b[0;34m\u001b[0m\u001b[0;34m\u001b[0m\u001b[0;34m\u001b[0m\u001b[0m\n\u001b[0;32m----> 2\u001b[0;31m \u001b[0mpsd_\u001b[0m \u001b[0;34m=\u001b[0m \u001b[0mqp\u001b[0m\u001b[0;34m.\u001b[0m\u001b[0mcalc_psd\u001b[0m\u001b[0;34m(\u001b[0m\u001b[0mx\u001b[0m\u001b[0;34m,\u001b[0m \u001b[0;36m1\u001b[0m\u001b[0;34m/\u001b[0m\u001b[0;36m2e-9\u001b[0m\u001b[0;34m,\u001b[0m \u001b[0;32mFalse\u001b[0m\u001b[0;34m)\u001b[0m\u001b[0;34m\u001b[0m\u001b[0;34m\u001b[0m\u001b[0m\n\u001b[0m\u001b[1;32m      3\u001b[0m \u001b[0mpsd\u001b[0m \u001b[0;34m=\u001b[0m \u001b[0mnp\u001b[0m\u001b[0;34m.\u001b[0m\u001b[0mzeros\u001b[0m\u001b[0;34m(\u001b[0m\u001b[0mlen\u001b[0m\u001b[0;34m(\u001b[0m\u001b[0mpsd_\u001b[0m\u001b[0;34m[\u001b[0m\u001b[0;36m1\u001b[0m\u001b[0;34m]\u001b[0m\u001b[0;34m)\u001b[0m\u001b[0;34m)\u001b[0m\u001b[0;34m\u001b[0m\u001b[0;34m\u001b[0m\u001b[0m\n\u001b[1;32m      4\u001b[0m \u001b[0mpsd\u001b[0m\u001b[0;34m[\u001b[0m\u001b[0;34m:\u001b[0m\u001b[0;34m]\u001b[0m \u001b[0;34m=\u001b[0m \u001b[0mpsd_\u001b[0m\u001b[0;34m[\u001b[0m\u001b[0;36m1\u001b[0m\u001b[0;34m]\u001b[0m\u001b[0;34m\u001b[0m\u001b[0;34m\u001b[0m\u001b[0m\n\u001b[1;32m      5\u001b[0m \u001b[0mpsd0\u001b[0m \u001b[0;34m=\u001b[0m \u001b[0mpsd\u001b[0m\u001b[0;34m[\u001b[0m\u001b[0;36m0\u001b[0m\u001b[0;34m]\u001b[0m\u001b[0;34m\u001b[0m\u001b[0;34m\u001b[0m\u001b[0m\n",
      "\u001b[0;31mNameError\u001b[0m: name 'qp' is not defined"
     ]
    }
   ],
   "source": [
    "#----------------------------------------\n",
    "psd_ = qp.calc_psd(x, 1/2e-9, False)\n",
    "psd = np.zeros(len(psd_[1]))\n",
    "psd[:] = psd_[1]\n",
    "psd0 = psd[0]\n",
    "#----------------------------------------\n",
    "fs =1/2e-9\n",
    "\n",
    "signalfilt_td = None\n",
    "nbins = 15000\n",
    "df = 500e6/nbins\n",
    "\n",
    "s = fft(template) / nbins / df\n",
    "phi= s.conjugate() / psd\n",
    "norm = np.real(np.dot(phi, s)) * df\n",
    "v = fft(signal, axis=-1) / nbins / df\n",
    "\n",
    "signalfilt = phi * v / norm\n",
    "\n",
    "\n",
    "signalfilt_td = np.real(ifft(signalfilt * nbins, axis=-1)) * df\n",
    "\n",
    "chi0 = np.real(np.dot(v.conjugate() / psd, v) * df)\n",
    "chit_withdelay = (signalfilt_td**2) * norm\n",
    "chi = chi0 - chit_withdelay\n",
    "chi_withdelay = np.roll(chi, nbins//2, axis=-1)\n",
    "amps_withdelay = np.roll(signalfilt_td, nbins//2, axis=-1,)\n",
    "print (chi0.shape ,chit_withdelay.shape ,chi.shape,chi_withdelay.shape,amps_withdelay.shape)            \n",
    "'''bestind = _argmin_chi2(chi_withdelay,\n",
    "                        nconstrain=None,\n",
    "                        lgcoutsidewindow=False,\n",
    "                        constraint_mask=None,\n",
    "                        windowcenter=0,\n",
    "                        )'''"
   ]
  },
  {
   "cell_type": "code",
   "execution_count": null,
   "id": "9140c086",
   "metadata": {},
   "outputs": [],
   "source": [
    "bestind= np.argmin(chi_withdelay, axis=-1)\n",
    "t0 = (bestind - nbins//2) / fs"
   ]
  },
  {
   "cell_type": "code",
   "execution_count": null,
   "id": "ddd04db7",
   "metadata": {},
   "outputs": [],
   "source": [
    "list(chi_withdelay).index(min(chi_withdelay))"
   ]
  },
  {
   "cell_type": "code",
   "execution_count": null,
   "id": "35de4714",
   "metadata": {},
   "outputs": [],
   "source": [
    "print(amps_withdelay[7478], min(signal), t0*fs)"
   ]
  },
  {
   "cell_type": "code",
   "execution_count": null,
   "id": "488fcbd9",
   "metadata": {},
   "outputs": [],
   "source": [
    "plt.plot(np.arange(15000)/2e3,signal, label=r'signal')\n",
    "# plt.plot(np.arange(15000)/2e3,signalfilt_td, label=r'signalfilt_td')\n",
    "# plt.plot(np.arange(15000)/2e3,amps_withdelay, label=r'amps_withdelay')\n",
    "\n",
    "fit_trace = amps_withdelay*np.roll(template, int(t0*fs))\n",
    "plt.plot(np.arange(15000)/2e3,fit_trace, label=r'fitted trace')\n",
    "\n",
    "\n",
    "plt.legend()"
   ]
  },
  {
   "cell_type": "code",
   "execution_count": 4,
   "id": "d6e3b0f1",
   "metadata": {},
   "outputs": [
    {
     "name": "stdout",
     "output_type": "stream",
     "text": [
      "(34+0j)\n"
     ]
    }
   ],
   "source": [
    "import numpy as np\n",
    "a = 3+5j\n",
    "print (np.dot(a, a.conjugate()))"
   ]
  },
  {
   "cell_type": "code",
   "execution_count": null,
   "id": "7a7f87ab",
   "metadata": {},
   "outputs": [],
   "source": []
  }
 ],
 "metadata": {
  "kernelspec": {
   "display_name": "Python 3",
   "language": "python",
   "name": "python3"
  },
  "language_info": {
   "codemirror_mode": {
    "name": "ipython",
    "version": 3
   },
   "file_extension": ".py",
   "mimetype": "text/x-python",
   "name": "python",
   "nbconvert_exporter": "python",
   "pygments_lexer": "ipython3",
   "version": "3.8.10"
  }
 },
 "nbformat": 4,
 "nbformat_minor": 5
}
