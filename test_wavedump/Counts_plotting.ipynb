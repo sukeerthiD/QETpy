{
 "cells": [
  {
   "cell_type": "code",
   "execution_count": 2,
   "id": "e2cf7161",
   "metadata": {},
   "outputs": [],
   "source": [
    "import numpy as np\n",
    "import matplotlib.pyplot as plt\n",
    "import os\n",
    "\n",
    "import pandas as pd\n",
    "import numpy as np\n",
    "import os\n",
    "import matplotlib.pyplot as plt\n",
    "\n",
    "\n",
    "\n",
    "identifier = '1000'\n",
    "# folder = '/nfs/dust/belle2/user/khanmuni/wavedumpdata/'\n",
    "folder = 'wavedumpdata/'\n",
    "\n",
    "\n",
    "def get_record_length(filename, pattern='RECORD_LENGTH'):\n",
    "    with open(filename) as f:\n",
    "        for line in f:\n",
    "            if not line.lstrip().startswith('#') and pattern in line:\n",
    "                print ('first str', int(line.split()[1]))\n",
    "                return int(line.split()[1]) #split and return second entry\n",
    "    print('Could not find file {} or could not find pattern {} in file.'.format(filename, pattern))\n",
    "    return -1\n",
    "\n",
    "\n",
    "def read_waveforms(waveforms, cfg, n):\n",
    "    \n",
    "    # get record length from config file, return -1 if there was a problem\n",
    "    recordlength = get_record_length(cfg)\n",
    "    if recordlength < 0:\n",
    "        return None\n",
    "\n",
    "    # read the waveform files (one entry per line, this is not a csv file)\n",
    "    arr = pd.read_csv(waveforms, header=None).to_numpy()\n",
    "    nlines_in_arr = len(arr)\n",
    "    print ('record length from cfg', recordlength, 'length of waveform', nlines_in_arr)\n",
    "    \n",
    "    # discard last event in case it was incomplete\n",
    "    nevents = int(np.floor(nlines_in_arr/recordlength))\n",
    "    print ('nevents nsig/sconf',nevents)\n",
    "    arr = arr[:(nevents*recordlength),:]\n",
    "    print ('waveform shape before', arr. shape)\n",
    "    newarr = arr.reshape(nevents, recordlength)\n",
    "    print ('waveform shape after', newarr.shape)\n",
    "    return arr, arr.reshape(nevents, recordlength)\n",
    "\n"
   ]
  },
  {
   "cell_type": "code",
   "execution_count": 7,
   "id": "bb4f9200",
   "metadata": {},
   "outputs": [
    {
     "name": "stdout",
     "output_type": "stream",
     "text": [
      "first str 15000\n",
      "record length from cfg 15000 length of waveform 15000000\n",
      "nevents nsig/sconf 1000\n",
      "waveform shape before (15000000, 1)\n",
      "waveform shape after (1000, 15000)\n",
      "Input shape CsI(Tl):  (1000, 15000)\n",
      "--------------------------------------------------\n",
      "first str 15000\n",
      "record length from cfg 15000 length of waveform 15000000\n",
      "nevents nsig/sconf 1000\n",
      "waveform shape before (15000000, 1)\n",
      "waveform shape after (1000, 15000)\n",
      "Input shape CsI(pure):  (1000, 15000)\n"
     ]
    },
    {
     "data": {
      "image/png": "[encoded data removed]",
      "text/plain": [
       "<Figure size 432x288 with 1 Axes>"
      ]
     },
     "metadata": {
      "needs_background": "light"
     },
     "output_type": "display_data"
    }
   ],
   "source": [
    "configfilename = os.path.join(folder, 'Config_' + identifier + '.txt')\n",
    "filename_Tl = os.path.join(folder, 'wavedump_' + identifier + '.txt')\n",
    "filename_pure = os.path.join(folder, 'wavedump1_' + identifier + '.txt')\n",
    "\n",
    "sig_raw_Tl , sig_Tl = read_waveforms(waveforms = filename_Tl, cfg=configfilename, n=None)\n",
    "print('Input shape CsI(Tl): ', sig_Tl.shape)\n",
    "print ('--------------------------------------------------')\n",
    "plt.hist( sig_raw_Tl, 5000, histtype= 'stepfilled')\n",
    "plt.xlim(14750,15200)\n",
    "\n",
    "\n",
    "sig_raw_pure , sig_pure = read_waveforms(waveforms = filename_pure, cfg=configfilename, n=None)\n",
    "print('Input shape CsI(pure): ', sig_pure.shape)"
   ]
  },
  {
   "cell_type": "code",
   "execution_count": 10,
   "id": "ab9df3db",
   "metadata": {},
   "outputs": [
    {
     "data": {
      "text/plain": [
       "array([0.0000e+00, 2.0000e-06, 4.0000e-06, ..., 2.9994e-02, 2.9996e-02,\n",
       "       2.9998e-02])"
      ]
     },
     "execution_count": 10,
     "metadata": {},
     "output_type": "execute_result"
    }
   ],
   "source": [
    "np.arange(0, len(sig_raw[20]))*2e-6"
   ]
  },
  {
   "cell_type": "code",
   "execution_count": 5,
   "id": "0341ca2a",
   "metadata": {},
   "outputs": [
    {
     "name": "stdout",
     "output_type": "stream",
     "text": [
      "(1720, 15000) (15000,)\n"
     ]
    }
   ],
   "source": []
  },
  {
   "cell_type": "code",
   "execution_count": 4,
   "id": "9a16eaaa",
   "metadata": {},
   "outputs": [
    {
     "name": "stdout",
     "output_type": "stream",
     "text": [
      "(1720, 15000) (15000,)\n"
     ]
    }
   ],
   "source": []
  },
  {
   "cell_type": "code",
   "execution_count": 8,
   "id": "1125432b",
   "metadata": {},
   "outputs": [
    {
     "name": "stdout",
     "output_type": "stream",
     "text": [
      "(1000, 15000) (15000,)\n"
     ]
    }
   ],
   "source": []
  },
  {
   "cell_type": "code",
   "execution_count": null,
   "id": "9a4e1179",
   "metadata": {},
   "outputs": [],
   "source": []
  },
  {
   "cell_type": "code",
   "execution_count": 14,
   "id": "09af9cb4",
   "metadata": {},
   "outputs": [
    {
     "data": {
      "text/plain": [
       "<matplotlib.legend.Legend at 0x7efd494bf6a0>"
      ]
     },
     "execution_count": 14,
     "metadata": {},
     "output_type": "execute_result"
    },
    {
     "data": {
      "image/png": "[encoded data removed]",
      "text/plain": [
       "<Figure size 432x288 with 1 Axes>"
      ]
     },
     "metadata": {
      "needs_background": "light"
     },
     "output_type": "display_data"
    }
   ],
   "source": [
    "\n",
    "plt.plot(np.arange(0, len(sig_raw[20]))*0.002, sig_raw[20], label = 'Signal row 20')#, s=1, marker='o')\n",
    "plt.plot(np.arange(0, len(noise_raw[20]))*0.002, noise_raw[20], label = 'Noise ')#, s=1, marker='o')\n",
    "plt.plot(np.arange(0, len(noise_raw_1[20]))*0.002, noise_raw_1[20], label = 'new noise')#, s=1, marker='o')\n",
    "# plt.plot(np.arange(0, len(noise_raw[20]))*0.002, noise_raw[100], label = 'Noise row 100')#, s=1, marker='o')\n",
    "plt.title(\"CsI-Tl\")\n",
    "plt.ylabel(\"ADC\")\n",
    "plt.xlabel(\"Time [$\\mu$s]\")\n",
    "plt.legend()\n",
    "# plt.yscale('log')\n",
    "# plt.xlim(0,30)\n",
    "# plt.ylim(0,-150)"
   ]
  },
  {
   "cell_type": "code",
   "execution_count": 19,
   "id": "563d82f1",
   "metadata": {},
   "outputs": [
    {
     "name": "stdout",
     "output_type": "stream",
     "text": [
      "[ 5.20684211  6.20684211 -5.79315789 ... -3.79315789  0.20684211\n",
      " -1.79315789]\n"
     ]
    },
    {
     "data": {
      "text/plain": [
       "(3000.0, 5000.0)"
      ]
     },
     "execution_count": 19,
     "metadata": {},
     "output_type": "execute_result"
    },
    {
     "data": {
      "image/png": "[encoded data removed]",
      "text/plain": [
       "<Figure size 432x288 with 1 Axes>"
      ]
     },
     "metadata": {
      "needs_background": "light"
     },
     "output_type": "display_data"
    }
   ],
   "source": [
    "sig_raw_puRE = sig_raw_pure.reshape(1000,15000)\n",
    "sig_praw_mean = np.expand_dims(sig_raw_puRE[:,100:2000].mean(axis=1), axis=1)\n",
    "# sig_raw_mean = sig_raw_puRE.mean(axis=1)\n",
    "sig_praw= sig_raw_puRE-sig_praw_mean\n",
    "print(sig_praw[20])\n",
    "plt.plot(np.arange(0, len(sig_praw[20])), sig_praw[20])\n",
    "plt.title(\"CsI-Pure\")\n",
    "plt.ylabel(\"ADC\")\n",
    "plt.xlabel(\"Time [$\\mu$s]\")\n",
    "plt.xlim(3000,5000)"
   ]
  },
  {
   "cell_type": "code",
   "execution_count": null,
   "id": "249fe47e",
   "metadata": {},
   "outputs": [],
   "source": []
  },
  {
   "cell_type": "code",
   "execution_count": 79,
   "id": "5e54cc08",
   "metadata": {},
   "outputs": [],
   "source": [
    "nmin=100\n",
    "nmax=2000\n",
    "threshold=25\n",
    "sig_start = sig_Tl[:,nmin:nmax]\n",
    "sig_mean = np.expand_dims(sig_start.mean(axis=1), axis=1)\n",
    "sig_std = np.expand_dims(sig_start.std(axis=1), axis=1)\n",
    "sig_corrected = sig_Tl - sig_mean"
   ]
  },
  {
   "cell_type": "code",
   "execution_count": null,
   "id": "12ef1486",
   "metadata": {},
   "outputs": [],
   "source": []
  },
  {
   "cell_type": "code",
   "execution_count": 80,
   "id": "b92e0795",
   "metadata": {},
   "outputs": [],
   "source": [
    "def findT0(data, std, threshold=3.0):\n",
    "    idxA = np.argmax(sig_corrected<-(threshold*std), axis=1)    \n",
    "    return idxA, data[np.arange(len(idxA)),idxA]"
   ]
  },
  {
   "cell_type": "code",
   "execution_count": 81,
   "id": "749cff68",
   "metadata": {},
   "outputs": [],
   "source": [
    "t0, t0_val = findT0(sig_corrected, sig_std, threshold=threshold)"
   ]
  },
  {
   "cell_type": "code",
   "execution_count": 82,
   "id": "254c02ba",
   "metadata": {},
   "outputs": [
    {
     "name": "stdout",
     "output_type": "stream",
     "text": [
      "[0, 15000]\n",
      "(15000,)\n"
     ]
    },
    {
     "data": {
      "text/plain": [
       "<matplotlib.legend.Legend at 0x7f7552319040>"
      ]
     },
     "execution_count": 82,
     "metadata": {},
     "output_type": "execute_result"
    },
    {
     "data": {
      "image/png": "[encoded data removed]",
      "text/plain": [
       "<Figure size 432x288 with 1 Axes>"
      ]
     },
     "metadata": {
      "needs_background": "light"
     },
     "output_type": "display_data"
    }
   ],
   "source": [
    "# plot waveform\n",
    "idx=20\n",
    "xrange=[0,len(sig_corrected[idx])]\n",
    "print (xrange)\n",
    "# plt.hlines(sig_mean[0], 0, 15000, color='red', ls='--', zorder=5)\n",
    "plt.hlines(0, xrange[0], xrange[1], color='red', ls='--', zorder=5, label='baseline')\n",
    "plt.hlines(-sig_std[idx]*threshold, xrange[0], xrange[1], color='red', ls='dotted', zorder=5, label='{}$\\sigma$'.format(threshold))\n",
    "plt.vlines(t0[idx], -1000, 0, color='green', ls='dotted', zorder=5, label='$T_0$')\n",
    "print(sig_corrected[idx].shape)\n",
    "_ = plt.scatter(np.arange(0, len(sig_corrected[idx])), sig_corrected[idx], s=1, marker='o')\n",
    "plt.xlim(xrange)\n",
    "plt.legend()"
   ]
  },
  {
   "cell_type": "code",
   "execution_count": 83,
   "id": "25dd024d",
   "metadata": {},
   "outputs": [
    {
     "name": "stdout",
     "output_type": "stream",
     "text": [
      "[ -1.87842105   0.12157895  -1.87842105 ... -10.87842105  -3.87842105\n",
      "  -3.87842105] [ -1.87842105   0.12157895  -1.87842105 ... -10.87842105  -3.87842105\n",
      "  -3.87842105]\n"
     ]
    }
   ],
   "source": [
    "print (sig_raw[20], sig_corrected[20])"
   ]
  },
  {
   "cell_type": "code",
   "execution_count": 87,
   "id": "447594dc",
   "metadata": {},
   "outputs": [
    {
     "data": {
      "image/png": "[encoded data removed]",
      "text/plain": [
       "<Figure size 432x288 with 1 Axes>"
      ]
     },
     "metadata": {
      "needs_background": "light"
     },
     "output_type": "display_data"
    }
   ],
   "source": [
    "\n",
    "binsmin = 3400\n",
    "binsmax = 4000\n",
    "nbins = 1000 #binsmax - binsmin\n",
    "\n",
    "bins = np.linspace(binsmin,binsmax,nbins)\n",
    "\n",
    "_ = plt.hist(t0, bins=bins, label='CsI(Tl)', histtype ='step')\n",
    "plt.gca().set_xlabel(r'$T_0$ [ticks]')\n",
    "plt.gca().set_ylabel(r'Entries / bin')\n",
    "plt.legend(loc='upper left')\n",
    "_=plt.gca().set_xlim(3500, 3700)"
   ]
  },
  {
   "cell_type": "code",
   "execution_count": null,
   "id": "337e07aa",
   "metadata": {},
   "outputs": [],
   "source": [
    "fig, ax = plt.subplots(figsize=(10, 6))\n",
    "ax.plot(np.arange(len(signal))*2e-3, signal, label=\"Signal\", color=\"blue\", alpha=0.5)\n",
    "# ax.plot(np.arange(len(signal))*2e-3, amp_withdelay*np.roll(template, int(t0_withdelay*fs)), \n",
    "#         label=\"Trial - not yet optimized\", color=\"red\", linestyle=\"dotted\")\n",
    "ax.set_ylabel(\"Light output [ADC]\")\n",
    "ax.set_xlabel(\"Time [$\\mu$s]\")\n",
    "# ax.set_xlim(0,15000)\n",
    "ax.set_title(\"CsI Tl\")\n",
    "# lgd = ax.legend(loc=\"lower right\")\n",
    "ax.tick_params(which=\"both\", direction=\"in\", right=True, top=True)\n",
    "ax.grid(linestyle=\"dotted\")\n",
    "fig = ax.get_figure()\n",
    "fig.savefig(\"plots/Csi_pulse.png\", dpi=200,  bbox_inches='tight')\n",
    "fig.tight_layout()"
   ]
  },
  {
   "cell_type": "code",
   "execution_count": null,
   "id": "38022383",
   "metadata": {},
   "outputs": [],
   "source": [
    "fig, ax = plt.subplots(figsize=(10, 6))\n",
    "ax.plot(np.arange(len(signal))*2e-3, signal, label=\"Tl Pulse\", color=\"blue\", alpha=0.5)\n",
    "ax.plot(np.arange(len(signal))*2e-3, amp_withdelay*np.roll(template, int(t0_withdelay*fs)), \n",
    "        label=\"Preliminary Fit\", color=\"red\", linestyle=\"dotted\")\n",
    "ax.set_ylabel(\"Light output [ADC]\")\n",
    "ax.set_xlabel(\"Time [$\\mu$s]\")\n",
    "# ax.set_xlim(0,15000)\n",
    "ax.set_title(\"CsI Tl\")\n",
    "lgd = ax.legend(loc=\"lower right\")\n",
    "ax.tick_params(which=\"both\", direction=\"in\", right=True, top=True)\n",
    "ax.grid(linestyle=\"dotted\")\n",
    "fig.tight_layout()"
   ]
  },
  {
   "cell_type": "code",
   "execution_count": null,
   "id": "45c60e41",
   "metadata": {},
   "outputs": [],
   "source": []
  },
  {
   "cell_type": "code",
   "execution_count": null,
   "id": "9e81cf62",
   "metadata": {},
   "outputs": [],
   "source": []
  },
  {
   "cell_type": "code",
   "execution_count": null,
   "id": "8639a040",
   "metadata": {},
   "outputs": [],
   "source": []
  },
  {
   "cell_type": "code",
   "execution_count": null,
   "id": "85f17fbf",
   "metadata": {},
   "outputs": [],
   "source": []
  },
  {
   "cell_type": "code",
   "execution_count": null,
   "id": "0f174b1e",
   "metadata": {},
   "outputs": [],
   "source": []
  },
  {
   "cell_type": "code",
   "execution_count": null,
   "id": "57314978",
   "metadata": {},
   "outputs": [],
   "source": []
  },
  {
   "cell_type": "code",
   "execution_count": null,
   "id": "ad949ff6",
   "metadata": {},
   "outputs": [],
   "source": []
  },
  {
   "cell_type": "code",
   "execution_count": null,
   "id": "888dabab",
   "metadata": {},
   "outputs": [],
   "source": []
  },
  {
   "cell_type": "code",
   "execution_count": null,
   "id": "8274c024",
   "metadata": {},
   "outputs": [],
   "source": []
  },
  {
   "cell_type": "code",
   "execution_count": null,
   "id": "1883a253",
   "metadata": {},
   "outputs": [],
   "source": []
  },
  {
   "cell_type": "code",
   "execution_count": null,
   "id": "e403e006",
   "metadata": {},
   "outputs": [],
   "source": []
  },
  {
   "cell_type": "code",
   "execution_count": null,
   "id": "3eb9ba33",
   "metadata": {},
   "outputs": [],
   "source": []
  },
  {
   "cell_type": "code",
   "execution_count": null,
   "id": "a56221a9",
   "metadata": {},
   "outputs": [],
   "source": []
  },
  {
   "cell_type": "code",
   "execution_count": null,
   "id": "ca049307",
   "metadata": {},
   "outputs": [],
   "source": []
  },
  {
   "cell_type": "code",
   "execution_count": null,
   "id": "66059358",
   "metadata": {},
   "outputs": [],
   "source": []
  },
  {
   "cell_type": "code",
   "execution_count": null,
   "id": "8a8102a5",
   "metadata": {},
   "outputs": [],
   "source": []
  }
 ],
 "metadata": {
  "kernelspec": {
   "display_name": "Python 3",
   "language": "python",
   "name": "python3"
  },
  "language_info": {
   "codemirror_mode": {
    "name": "ipython",
    "version": 3
   },
   "file_extension": ".py",
   "mimetype": "text/x-python",
   "name": "python",
   "nbconvert_exporter": "python",
   "pygments_lexer": "ipython3",
   "version": "3.8.5"
  }
 },
 "nbformat": 4,
 "nbformat_minor": 5
}
