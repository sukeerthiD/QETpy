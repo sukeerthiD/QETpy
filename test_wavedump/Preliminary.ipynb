{
 "cells": [
  {
   "cell_type": "code",
   "execution_count": 1,
   "id": "f569a68b",
   "metadata": {},
   "outputs": [],
   "source": [
    "import numpy as np\n",
    "import matplotlib.pyplot as plt\n",
    "import qetpy as qp\n",
    "from pprint import pprint\n",
    "from qetpy import Noise\n",
    "from qetpy.sim import TESnoise\n",
    "from qetpy.plotting import compare_noise, plot_noise_sim"
   ]
  },
  {
   "cell_type": "code",
   "execution_count": 2,
   "id": "d53401b3",
   "metadata": {},
   "outputs": [
    {
     "name": "stdout",
     "output_type": "stream",
     "text": [
      "['_check_freqs',\n",
      " '_interpolate_of',\n",
      " '_interpolate_parabola',\n",
      " 'chi2_lowfreq',\n",
      " 'chi2_nopulse',\n",
      " 'energy_resolution',\n",
      " 'ofamp_baseline',\n",
      " 'ofamp_nodelay',\n",
      " 'ofamp_pileup_iterative',\n",
      " 'ofamp_pileup_stationary',\n",
      " 'ofamp_withdelay',\n",
      " 'time_resolution',\n",
      " 'update_signal']\n"
     ]
    },
    {
     "name": "stderr",
     "output_type": "stream",
     "text": [
      "/home/s/.local/lib/python3.8/site-packages/ipykernel/ipkernel.py:283: DeprecationWarning: `should_run_async` will not call `transform_cell` automatically in the future. Please pass the result to `transformed_cell` argument and any exception that happen during thetransform in `preprocessing_exc_tuple` in IPython 7.17 and above.\n",
      "  and should_run_async(code)\n"
     ]
    }
   ],
   "source": [
    "method_list = sorted([func for func in dir(qp.OptimumFilter) if callable(getattr(qp.OptimumFilter, func)) and not func.startswith(\"__\")])\n",
    "pprint(method_list)"
   ]
  },
  {
   "cell_type": "markdown",
   "id": "f468382a",
   "metadata": {},
   "source": [
    "## Optimum filter"
   ]
  },
  {
   "cell_type": "code",
   "execution_count": 3,
   "id": "e2d27126",
   "metadata": {},
   "outputs": [
    {
     "ename": "NameError",
     "evalue": "name 'signal' is not defined",
     "output_type": "error",
     "traceback": [
      "\u001b[0;31m---------------------------------------------------------------------------\u001b[0m",
      "\u001b[0;31mNameError\u001b[0m                                 Traceback (most recent call last)",
      "\u001b[0;32m<ipython-input-3-9f9876bb6ae0>\u001b[0m in \u001b[0;36m<module>\u001b[0;34m\u001b[0m\n\u001b[0;32m----> 1\u001b[0;31m \u001b[0mOF\u001b[0m \u001b[0;34m=\u001b[0m \u001b[0mqp\u001b[0m\u001b[0;34m.\u001b[0m\u001b[0mOptimumFilter\u001b[0m\u001b[0;34m(\u001b[0m\u001b[0msignal\u001b[0m\u001b[0;34m,\u001b[0m \u001b[0mtemplate\u001b[0m\u001b[0;34m,\u001b[0m \u001b[0mpsd_sim\u001b[0m\u001b[0;34m,\u001b[0m \u001b[0mfs\u001b[0m\u001b[0;34m)\u001b[0m\u001b[0;34m\u001b[0m\u001b[0;34m\u001b[0m\u001b[0m\n\u001b[0m",
      "\u001b[0;31mNameError\u001b[0m: name 'signal' is not defined"
     ]
    }
   ],
   "source": [
    "OF = qp.OptimumFilter(signal, template, psd_sim, fs)"
   ]
  },
  {
   "cell_type": "markdown",
   "id": "8a58f344",
   "metadata": {},
   "source": [
    "### Signal"
   ]
  },
  {
   "cell_type": "code",
   "execution_count": 22,
   "id": "f339b809",
   "metadata": {},
   "outputs": [
    {
     "name": "stdout",
     "output_type": "stream",
     "text": [
      "1000\n"
     ]
    },
    {
     "ename": "ValueError",
     "evalue": "cannot reshape array of size 15000000 into shape (1,1,1000)",
     "output_type": "error",
     "traceback": [
      "\u001b[0;31m---------------------------------------------------------------------------\u001b[0m",
      "\u001b[0;31mValueError\u001b[0m                                Traceback (most recent call last)",
      "\u001b[0;32m<ipython-input-22-d0d82bc453f5>\u001b[0m in \u001b[0;36m<module>\u001b[0;34m\u001b[0m\n\u001b[1;32m      3\u001b[0m \u001b[0;34m\u001b[0m\u001b[0m\n\u001b[1;32m      4\u001b[0m \u001b[0mprint\u001b[0m \u001b[0;34m(\u001b[0m\u001b[0mlen\u001b[0m\u001b[0;34m(\u001b[0m\u001b[0mtraces_PT_on\u001b[0m\u001b[0;34m)\u001b[0m\u001b[0;34m)\u001b[0m\u001b[0;34m\u001b[0m\u001b[0;34m\u001b[0m\u001b[0m\n\u001b[0;32m----> 5\u001b[0;31m \u001b[0mtraces_PT_on\u001b[0m \u001b[0;34m=\u001b[0m \u001b[0mtraces_PT_on\u001b[0m\u001b[0;34m.\u001b[0m\u001b[0mreshape\u001b[0m\u001b[0;34m(\u001b[0m\u001b[0;36m1\u001b[0m\u001b[0;34m,\u001b[0m \u001b[0;36m1\u001b[0m\u001b[0;34m,\u001b[0m \u001b[0mlen\u001b[0m\u001b[0;34m(\u001b[0m\u001b[0mtraces_PT_on\u001b[0m\u001b[0;34m)\u001b[0m\u001b[0;34m)\u001b[0m\u001b[0;34m\u001b[0m\u001b[0;34m\u001b[0m\u001b[0m\n\u001b[0m\u001b[1;32m      6\u001b[0m \u001b[0;34m\u001b[0m\u001b[0m\n\u001b[1;32m      7\u001b[0m \u001b[0;34m\u001b[0m\u001b[0m\n",
      "\u001b[0;31mValueError\u001b[0m: cannot reshape array of size 15000000 into shape (1,1,1000)"
     ]
    }
   ],
   "source": [
    "traces_PT_on = np.load('wavedumpdata/wavedump_Tl_processed.npy')\n",
    "\n",
    "\n",
    "print (len(traces_PT_on))\n",
    "traces_PT_on = traces_PT_on.reshape(1, 1, len(traces_PT_on))\n",
    "\n",
    "\n",
    "signal = traces_PT_on[:,:,:15000]\n",
    "signal = signal.reshape(15000,)"
   ]
  },
  {
   "cell_type": "markdown",
   "id": "0188a57a",
   "metadata": {},
   "source": [
    "### PSD - Power Spectral Density"
   ]
  },
  {
   "cell_type": "code",
   "execution_count": 13,
   "id": "56264416",
   "metadata": {},
   "outputs": [],
   "source": [
    "\n",
    "tl_noise = Noise(traces=traces_PT_on,\n",
    "                   fs=fs, \n",
    "                   channames=channels,\n",
    "                   name= 'Testing CsI_Tl') #initialize a noise object\n",
    "\n",
    "channels = [ 'Channel' ] \n",
    "\n",
    "fs = 1/2e-9\n",
    "f = np.fft.fftfreq(15000, d=1/fs)\n",
    "\n",
    "noisesim = TESnoise(freqs = tl_noise.freqs[1:])\n",
    "psd_sim = noisesim.s_iload(freqs=f) + noisesim.s_ites(freqs=f) + noisesim.s_itfn(freqs=f)\n",
    "\n"
   ]
  },
  {
   "cell_type": "markdown",
   "id": "68d19d8f",
   "metadata": {},
   "source": [
    "### Template"
   ]
  },
  {
   "cell_type": "markdown",
   "id": "8af7c15b",
   "metadata": {},
   "source": [
    "we need psd to get a template. So we have to do noise funciton to get psd "
   ]
  },
  {
   "cell_type": "code",
   "execution_count": 14,
   "id": "3f75352a",
   "metadata": {},
   "outputs": [],
   "source": [
    "\n",
    "\n",
    "\n",
    "tau_f = 1.5e-6 # [s] fall time\n",
    "tau_r = 0.05e-6 # [s] rise time\n",
    "\n",
    "t = np.arange(len(psd_sim))/fs\n",
    "\n",
    "pulse = np.exp(-t/tau_f)-np.exp(-t/tau_r)\n",
    "pulse_shifted = np.roll(pulse, len(t)//2)\n",
    "\n",
    "\n",
    "template = pulse_shifted/pulse_shifted.max()\n"
   ]
  },
  {
   "cell_type": "markdown",
   "id": "4bbf1999",
   "metadata": {},
   "source": [
    "### Optimum filter"
   ]
  },
  {
   "cell_type": "code",
   "execution_count": 15,
   "id": "e77e14b2",
   "metadata": {},
   "outputs": [],
   "source": [
    "OF = qp.OptimumFilter(signal, template, psd_sim, fs)"
   ]
  },
  {
   "cell_type": "code",
   "execution_count": 18,
   "id": "f01785da",
   "metadata": {},
   "outputs": [
    {
     "name": "stdout",
     "output_type": "stream",
     "text": [
      "With Delay Fit: amp = -1059665264.18 μA, t_0 = -7.696000000000001 μs, χ^2 = 115388213772080281892683776.00\n"
     ]
    }
   ],
   "source": [
    "\n",
    "# print(f\"No Delay Fit: amp = {amp_nodelay*1e6:.2f} μA, χ^2 = {chi2_nodelay:.2f}\")\n",
    "print(f\"With Delay Fit: amp = {amp_withdelay*1e6:.2f} μA, t_0 = {t0_withdelay*1e6} μs, χ^2 = {chi2_withdelay:.2f}\")"
   ]
  },
  {
   "cell_type": "code",
   "execution_count": 16,
   "id": "7dc4f335",
   "metadata": {},
   "outputs": [
    {
     "name": "stderr",
     "output_type": "stream",
     "text": [
      "<>:7: DeprecationWarning: invalid escape sequence \\m\n",
      "<>:7: DeprecationWarning: invalid escape sequence \\m\n",
      "<ipython-input-16-0ce34621c030>:7: DeprecationWarning: invalid escape sequence \\m\n",
      "  ax.set_xlabel(\"Time [$\\mu$s]\")\n"
     ]
    },
    {
     "data": {
      "image/png": "[encoded data removed]",
      "text/plain": [
       "<Figure size 720x432 with 1 Axes>"
      ]
     },
     "metadata": {
      "needs_background": "light"
     },
     "output_type": "display_data"
    }
   ],
   "source": [
    "amp_withdelay, t0_withdelay, chi2_withdelay = OF.ofamp_withdelay()\n",
    "fig, ax = plt.subplots(figsize=(10, 6))\n",
    "ax.plot(np.arange( len(signal))*2e-3, signal, label=\"Tl Pulse\", color=\"blue\", alpha=0.5)\n",
    "ax.plot(np.arange( len(signal))*2e-3, amp_withdelay*np.roll(template, int(t0_withdelay*fs)), \n",
    "        label=\"Trial - not yet optimized\", color=\"red\", linestyle=\"dotted\")\n",
    "ax.set_ylabel(\"Light output [ADC]\")\n",
    "ax.set_xlabel(\"Time [$\\mu$s]\")\n",
    "# ax.set_xlim(0,15000)\n",
    "ax.set_title(\"CsI Tl\")\n",
    "lgd = ax.legend(loc=\"upper left\")\n",
    "ax.tick_params(which=\"both\", direction=\"in\", right=True, top=True)\n",
    "ax.grid(linestyle=\"dotted\")\n",
    "fig.tight_layout()"
   ]
  },
  {
   "cell_type": "code",
   "execution_count": 12,
   "id": "ee6f471a",
   "metadata": {},
   "outputs": [
    {
     "ename": "NameError",
     "evalue": "name 'tl_noise' is not defined",
     "output_type": "error",
     "traceback": [
      "\u001b[0;31m---------------------------------------------------------------------------\u001b[0m",
      "\u001b[0;31mNameError\u001b[0m                                 Traceback (most recent call last)",
      "\u001b[0;32m<ipython-input-12-1a64483b69a1>\u001b[0m in \u001b[0;36m<module>\u001b[0;34m\u001b[0m\n\u001b[0;32m----> 1\u001b[0;31m \u001b[0mtl_noise\u001b[0m\u001b[0;34m.\u001b[0m\u001b[0mcalculate_psd\u001b[0m\u001b[0;34m(\u001b[0m\u001b[0;34m)\u001b[0m\u001b[0;34m\u001b[0m\u001b[0;34m\u001b[0m\u001b[0m\n\u001b[0m\u001b[1;32m      2\u001b[0m \u001b[0mtl_noise\u001b[0m\u001b[0;34m.\u001b[0m\u001b[0mplot_psd\u001b[0m\u001b[0;34m(\u001b[0m\u001b[0mlgcoverlay\u001b[0m\u001b[0;34m=\u001b[0m\u001b[0;32mTrue\u001b[0m\u001b[0;34m)\u001b[0m\u001b[0;34m\u001b[0m\u001b[0;34m\u001b[0m\u001b[0m\n",
      "\u001b[0;31mNameError\u001b[0m: name 'tl_noise' is not defined"
     ]
    }
   ],
   "source": [
    "tl_noise.calculate_psd()\n",
    "tl_noise.plot_psd(lgcoverlay=True)"
   ]
  },
  {
   "cell_type": "code",
   "execution_count": null,
   "id": "48873ba2",
   "metadata": {},
   "outputs": [],
   "source": []
  },
  {
   "cell_type": "code",
   "execution_count": null,
   "id": "65548e86",
   "metadata": {},
   "outputs": [],
   "source": [
    "nonlinof = qp.OFnonlin(psd_sim, fs, template=None)\n",
    "params, error, _, chi2_nonlin, success = nonlinof.fit_falltimes(signal, npolefit=2, lgcfullrtn=True, lgcplot=True)\n",
    "# params :  best fit parameters ; error : The corresponding fit errors for the best fit parameters ; \n",
    "# _ : The convariance matrix returned from the fit ; success : The success flag from scipy.optimize.curve_fit i.e True if the fit converged. "
   ]
  },
  {
   "cell_type": "code",
   "execution_count": null,
   "id": "8b2ed185",
   "metadata": {},
   "outputs": [],
   "source": [
    "# Order of amplitudes, then rise/fall times, and then the time the pulse starts."
   ]
  },
  {
   "cell_type": "code",
   "execution_count": null,
   "id": "0839c7c4",
   "metadata": {},
   "outputs": [],
   "source": []
  },
  {
   "cell_type": "code",
   "execution_count": null,
   "id": "65d6dfa2",
   "metadata": {},
   "outputs": [],
   "source": []
  },
  {
   "cell_type": "code",
   "execution_count": null,
   "id": "4bf31dd2",
   "metadata": {},
   "outputs": [],
   "source": []
  },
  {
   "cell_type": "code",
   "execution_count": null,
   "id": "a348924c",
   "metadata": {},
   "outputs": [],
   "source": [
    "print(np.argmin(signal, axis=None))\n",
    "print(signal[np.argmin(signal, axis=None)], signal.min())\n",
    "print (np.argmin(signal, axis=None)*0.002)\n",
    "3660*0.002 -  (np.argmin(signal, axis=None)*0.002)"
   ]
  },
  {
   "cell_type": "markdown",
   "id": "fc3a2ce8",
   "metadata": {},
   "source": [
    "Plotting psd"
   ]
  },
  {
   "cell_type": "code",
   "execution_count": null,
   "id": "4679f0f8",
   "metadata": {},
   "outputs": [],
   "source": []
  }
 ],
 "metadata": {
  "kernelspec": {
   "display_name": "Python 3",
   "language": "python",
   "name": "python3"
  },
  "language_info": {
   "codemirror_mode": {
    "name": "ipython",
    "version": 3
   },
   "file_extension": ".py",
   "mimetype": "text/x-python",
   "name": "python",
   "nbconvert_exporter": "python",
   "pygments_lexer": "ipython3",
   "version": "3.8.5"
  }
 },
 "nbformat": 4,
 "nbformat_minor": 5
}
